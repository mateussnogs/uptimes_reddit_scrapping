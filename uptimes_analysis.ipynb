{
 "cells": [
  {
   "cell_type": "code",
   "execution_count": 1,
   "metadata": {},
   "outputs": [],
   "source": [
    "import pandas as pd\n",
    "import matplotlib.pyplot as plt\n",
    "import numpy as np\n",
    "import seaborn as sns\n",
    "%matplotlib inline"
   ]
  },
  {
   "cell_type": "code",
   "execution_count": 2,
   "metadata": {},
   "outputs": [
    {
     "data": {
      "text/html": [
       "<div>\n",
       "<style scoped>\n",
       "    .dataframe tbody tr th:only-of-type {\n",
       "        vertical-align: middle;\n",
       "    }\n",
       "\n",
       "    .dataframe tbody tr th {\n",
       "        vertical-align: top;\n",
       "    }\n",
       "\n",
       "    .dataframe thead th {\n",
       "        text-align: right;\n",
       "    }\n",
       "</style>\n",
       "<table border=\"1\" class=\"dataframe\">\n",
       "  <thead>\n",
       "    <tr style=\"text-align: right;\">\n",
       "      <th></th>\n",
       "      <th>Post number</th>\n",
       "      <th>Title</th>\n",
       "      <th>Img OCR Text</th>\n",
       "      <th>Img Real Text</th>\n",
       "      <th>Uptimes</th>\n",
       "    </tr>\n",
       "  </thead>\n",
       "  <tbody>\n",
       "    <tr>\n",
       "      <th>353</th>\n",
       "      <td>442</td>\n",
       "      <td>Almost never reboot this box, everything it ru...</td>\n",
       "      <td>I was gonna show off my old Apple cube running...</td>\n",
       "      <td>NaN</td>\n",
       "      <td>1105.0</td>\n",
       "    </tr>\n",
       "    <tr>\n",
       "      <th>354</th>\n",
       "      <td>443</td>\n",
       "      <td>I was gonna show off my old Apple cube running...</td>\n",
       "      <td>Prone\\n\\n(EINES\\n\\n \\n\\n \\n\\nbh\\n\\n \\n\\n \\n\\nL...</td>\n",
       "      <td>NaN</td>\n",
       "      <td>NaN</td>\n",
       "    </tr>\n",
       "    <tr>\n",
       "      <th>355</th>\n",
       "      <td>444</td>\n",
       "      <td>My current highest uptime server.\\n</td>\n",
       "      <td>LS Ac haa Di iadlin cu\\n11:56:10 up 320 days, ...</td>\n",
       "      <td>NaN</td>\n",
       "      <td>320.0</td>\n",
       "    </tr>\n",
       "    <tr>\n",
       "      <th>356</th>\n",
       "      <td>445</td>\n",
       "      <td>I know I got some boxes much higher than this..\\n</td>\n",
       "      <td>matt@mail:~$ uptime\\ncree te ee ee ry]</td>\n",
       "      <td>NaN</td>\n",
       "      <td>280.0</td>\n",
       "    </tr>\n",
       "    <tr>\n",
       "      <th>357</th>\n",
       "      <td>447</td>\n",
       "      <td>Setting the bar high with a webserver:\\n</td>\n",
       "      <td>os Ea Ta\\nFae Ie yee eo ae TCE Ce OE a ee\\nSet...</td>\n",
       "      <td>NaN</td>\n",
       "      <td>1049.0</td>\n",
       "    </tr>\n",
       "  </tbody>\n",
       "</table>\n",
       "</div>"
      ],
      "text/plain": [
       "     Post number                                              Title  \\\n",
       "353          442  Almost never reboot this box, everything it ru...   \n",
       "354          443  I was gonna show off my old Apple cube running...   \n",
       "355          444                My current highest uptime server.\\n   \n",
       "356          445  I know I got some boxes much higher than this..\\n   \n",
       "357          447           Setting the bar high with a webserver:\\n   \n",
       "\n",
       "                                          Img OCR Text  Img Real Text  Uptimes  \n",
       "353  I was gonna show off my old Apple cube running...            NaN   1105.0  \n",
       "354  Prone\\n\\n(EINES\\n\\n \\n\\n \\n\\nbh\\n\\n \\n\\n \\n\\nL...            NaN      NaN  \n",
       "355  LS Ac haa Di iadlin cu\\n11:56:10 up 320 days, ...            NaN    320.0  \n",
       "356             matt@mail:~$ uptime\\ncree te ee ee ry]            NaN    280.0  \n",
       "357  os Ea Ta\\nFae Ie yee eo ae TCE Ce OE a ee\\nSet...            NaN   1049.0  "
      ]
     },
     "execution_count": 2,
     "metadata": {},
     "output_type": "execute_result"
    }
   ],
   "source": [
    "uptimes = pd.read_csv(\"Uptimes - posts_complete.csv\")\n",
    "uptimes = uptimes.loc[:, ['Post number', 'Title', 'Img OCR Text', 'Img Real Text', 'Uptimes']]\n",
    "uptimes.tail()"
   ]
  },
  {
   "cell_type": "code",
   "execution_count": 3,
   "metadata": {},
   "outputs": [],
   "source": [
    "def check_updays(text, index):    \n",
    "    up = -1\n",
    "    next_index = index+1\n",
    "    if ( str.isnumeric(text[index]) and text[index+1].find('days') != -1 ): # 123 days!@\n",
    "        up = text[index]\n",
    "    elif (text[index].find('uptime') != -1 or text[index].find('up') != -1 or text[index].find('uptime:') != -1 or text[index].find('up:') != -1):\n",
    "        if (text[index+2].find('days') != -1):\n",
    "            if (str.isnumeric(text[index+1])):\n",
    "                up = text[index+1]\n",
    "                next_index += 1\n",
    "    return up, next_index\n",
    "\n",
    "ups = []\n",
    "for i in range(len(uptimes)):\n",
    "    text = str(uptimes.iloc[i, 2]).lower().split(\" \")\n",
    "    j = 0\n",
    "    while j < len(text):\n",
    "        if ((j+2) < len(text)):\n",
    "            updays, cur_index = check_updays(text, j)\n",
    "            j = cur_index\n",
    "            if (updays != -1):\n",
    "                ups.append(updays)\n",
    "        else:\n",
    "            j+=1\n",
    "                       \n",
    "ups = list(map(int, ups))\n",
    "\n",
    "del(ups[ups.index(972240218)])"
   ]
  },
  {
   "cell_type": "code",
   "execution_count": 4,
   "metadata": {},
   "outputs": [
    {
     "data": {
      "text/plain": [
       "1169.9358477011494"
      ]
     },
     "execution_count": 4,
     "metadata": {},
     "output_type": "execute_result"
    }
   ],
   "source": [
    "ups = uptimes.loc[pd.notna(uptimes['Uptimes'])]['Uptimes']\n",
    "np.mean(ups)\n"
   ]
  },
  {
   "cell_type": "code",
   "execution_count": 7,
   "metadata": {},
   "outputs": [
    {
     "data": {
      "image/png": "[encoded data removed]",
      "text/plain": [
       "<Figure size 432x288 with 1 Axes>"
      ]
     },
     "metadata": {},
     "output_type": "display_data"
    }
   ],
   "source": [
    "\n",
    "plt.hist(ups)\n",
    "taxa = np.mean(ups)\n",
    "# amostras = np.random.exponential(taxa, len(ups))\n",
    "amostras = np.random.exponential(taxa, 10000)\n",
    "plt.plot(sorted(amostras, reverse=True), np.linspace(0, len(ups), len(amostras)), 'r')\n",
    "plt.xlabel(\"Days\")\n",
    "plt.ylabel(\"Number of samples\")\n",
    "plt.legend([\"Exponential with lambda = sample mean: \" + str(round(np.mean(ups), 2)), \"Dataset\"])\n",
    "plt.title(\"Uptimes(Days)\")\n",
    "# plt.savefig(\"uptimes.png\", format=\"png\")"
   ]
  },
  {
   "cell_type": "code",
   "execution_count": 6,
   "metadata": {},
   "outputs": [
    {
     "data": {
      "text/plain": [
       "Text(0.5,0,'days')"
      ]
     },
     "execution_count": 6,
     "metadata": {},
     "output_type": "execute_result"
    },
    {
     "data": {
      "image/png": "[encoded data removed]",
      "text/plain": [
       "<Figure size 432x288 with 1 Axes>"
      ]
     },
     "metadata": {},
     "output_type": "display_data"
    }
   ],
   "source": [
    "taxa = np.mean(ups)\n",
    "amostras = np.random.exponential(taxa, len(ups))\n",
    "plt.hist(amostras, color='r')\n",
    "plt.xlabel(\"days\")"
   ]
  },
  {
   "cell_type": "code",
   "execution_count": null,
   "metadata": {},
   "outputs": [],
   "source": []
  }
 ],
 "metadata": {
  "kernelspec": {
   "display_name": "Python 3",
   "language": "python",
   "name": "python3"
  },
  "language_info": {
   "codemirror_mode": {
    "name": "ipython",
    "version": 3
   },
   "file_extension": ".py",
   "mimetype": "text/x-python",
   "name": "python",
   "nbconvert_exporter": "python",
   "pygments_lexer": "ipython3",
   "version": "3.6.8"
  }
 },
 "nbformat": 4,
 "nbformat_minor": 2
}
